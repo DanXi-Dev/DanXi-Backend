{
 "cells": [
  {
   "cell_type": "code",
   "execution_count": 33,
   "metadata": {},
   "outputs": [],
   "source": [
    "import json\n",
    "\n",
    "with open(\"all.json\", \"r\", encoding=\"utf8\") as f:\n",
    "    alljson = json.load(f)"
   ]
  },
  {
   "cell_type": "code",
   "execution_count": 34,
   "metadata": {},
   "outputs": [
    {
     "name": "stdout",
     "output_type": "stream",
     "text": [
      "dict_keys([-4, -5, 0, -3, -2, -1])\n"
     ]
    }
   ],
   "source": [
    "all_json_list = {}\n",
    "for i in alljson:\n",
    "    k = i[\"maxVersion\"] if i[\"maxVersion\"] < 0 else 0\n",
    "    if all_json_list.get(k) is None:\n",
    "        all_json_list[k] = []\n",
    "    all_json_list[k].append(i)\n",
    "print(all_json_list.keys())"
   ]
  },
  {
   "cell_type": "code",
   "execution_count": 35,
   "metadata": {},
   "outputs": [],
   "source": [
    "semeter_start_date = [\n",
    "    {\"id\": int(i[\"id\"]), \"start_date\": i[\"startDate\"]}\n",
    "    for i in json.loads(all_json_list[-5][0][\"content\"])[\"timetable\"][\"fdu_ug\"]\n",
    "]\n",
    "semeter_start_date.append(\n",
    "    {\n",
    "        \"id\": 464,\n",
    "        \"start_date\": \"2024-03-26\",\n",
    "    }\n",
    ")\n",
    "semeter_start_date.sort(key=lambda x: x[\"id\"], reverse=True)\n",
    "\n",
    "user_agent = json.loads(all_json_list[-5][0][\"content\"])[\"userAgent\"]\n",
    "\n",
    "stop_words = json.loads(all_json_list[-5][0][\"content\"])[\"stopWords\"]\n",
    "\n",
    "banners = json.loads(all_json_list[-5][0][\"content\"])[\"banners\"]\n",
    "\n",
    "celebrations = [\n",
    "    {\"date\": i[\"date\"], \"words\": i[\"celebrationWords\"]}\n",
    "    for i in json.loads(all_json_list[-4][0][\"content\"])\n",
    "]\n",
    "\n",
    "change_log = all_json_list[-3][0][\"content\"]\n",
    "\n",
    "latest_version = all_json_list[-2][0][\"content\"]\n",
    "\n",
    "this_semester_start_date = all_json_list[-1][0][\"content\"]\n",
    "\n",
    "dev_notice = [\n",
    "    {\"date\": i[\"updatedAt\"], \"content\": i[\"content\"], \"build\": i[\"maxVersion\"]}\n",
    "    for i in all_json_list[0]\n",
    "]\n",
    "dev_notice.sort(key=lambda x: x[\"build\"], reverse=True)\n",
    "\n",
    "static_file_content_dict = {\n",
    "    \"semeter_start_date\": semeter_start_date,\n",
    "    \"user_agent\": user_agent,\n",
    "    \"stop_words\": stop_words,\n",
    "    \"banners\": [\n",
    "        {\"title\": \"这是示例 banner 的内容\", \"action\": \"\", \"button\": \"这是按钮文案\"}\n",
    "    ],\n",
    "    \"celebrations\": celebrations,\n",
    "    \"change_log\": change_log,\n",
    "    \"latest_version\": {\"swift\": \"2.0.0\", \"flutter\": latest_version},\n",
    "    \"dev_notice\": dev_notice,\n",
    "}"
   ]
  },
  {
   "cell_type": "code",
   "execution_count": 37,
   "metadata": {},
   "outputs": [],
   "source": [
    "import toml\n",
    "\n",
    "with open(\"tmp_wait_for_json_editor.toml\", \"w\", encoding=\"utf8\") as f:\n",
    "    f.write(toml.dumps(static_file_content_dict))"
   ]
  }
 ],
 "metadata": {
  "kernelspec": {
   "display_name": "hf",
   "language": "python",
   "name": "python3"
  },
  "language_info": {
   "codemirror_mode": {
    "name": "ipython",
    "version": 3
   },
   "file_extension": ".py",
   "mimetype": "text/x-python",
   "name": "python",
   "nbconvert_exporter": "python",
   "pygments_lexer": "ipython3",
   "version": "3.12.2"
  }
 },
 "nbformat": 4,
 "nbformat_minor": 2
}
